{
 "cells": [
  {
   "cell_type": "code",
   "execution_count": 1,
   "metadata": {},
   "outputs": [
    {
     "name": "stderr",
     "output_type": "stream",
     "text": [
      "----------------------------------------\n",
      "Exception occurred during processing of request from ('127.0.0.1', 38270)\n",
      "Traceback (most recent call last):\n",
      "  File \"/opt/conda/envs/vscode_pyspark/lib/python3.11/socketserver.py\", line 317, in _handle_request_noblock\n",
      "    self.process_request(request, client_address)\n",
      "  File \"/opt/conda/envs/vscode_pyspark/lib/python3.11/socketserver.py\", line 348, in process_request\n",
      "    self.finish_request(request, client_address)\n",
      "  File \"/opt/conda/envs/vscode_pyspark/lib/python3.11/socketserver.py\", line 361, in finish_request\n",
      "    self.RequestHandlerClass(request, client_address, self)\n",
      "  File \"/opt/conda/envs/vscode_pyspark/lib/python3.11/socketserver.py\", line 755, in __init__\n",
      "    self.handle()\n",
      "  File \"/opt/conda/envs/vscode_pyspark/lib/python3.11/site-packages/pyspark/accumulators.py\", line 295, in handle\n",
      "    poll(accum_updates)\n",
      "  File \"/opt/conda/envs/vscode_pyspark/lib/python3.11/site-packages/pyspark/accumulators.py\", line 267, in poll\n",
      "    if self.rfile in r and func():\n",
      "                           ^^^^^^\n",
      "  File \"/opt/conda/envs/vscode_pyspark/lib/python3.11/site-packages/pyspark/accumulators.py\", line 271, in accum_updates\n",
      "    num_updates = read_int(self.rfile)\n",
      "                  ^^^^^^^^^^^^^^^^^^^^\n",
      "  File \"/opt/conda/envs/vscode_pyspark/lib/python3.11/site-packages/pyspark/serializers.py\", line 596, in read_int\n",
      "    raise EOFError\n",
      "EOFError\n",
      "----------------------------------------\n"
     ]
    }
   ],
   "source": [
    "from pyspark.sql import SparkSession\n",
    "\n",
    "spark = SparkSession.builder \\\n",
    "                    .master(\"local[1]\") \\\n",
    "                    .appName(\"test\") \\\n",
    "                    .getOrCreate()"
   ]
  },
  {
   "cell_type": "code",
   "execution_count": 5,
   "metadata": {},
   "outputs": [],
   "source": [
    "from pyspark.sql import functions as F\n",
    "from pyspark.sql.types import StructType, StructField, IntegerType, StringType, DateType, FloatType\n",
    "import pandas as pd\n",
    "\n",
    "@F.pandas_udf(\"int\")\n",
    "def parse_iso8601_duration(str_duration : pd.Series) -> pd.Series:\n",
    "    return str_duration.apply(lambda duration: (pd.Timedelta(duration).seconds / 60))\n",
    "\n",
    "def extract_and_transform_data(path:str):\n",
    "    df = spark.read.schema(recipe_schema).json(path)\n",
    "    return df.select(F.col(\"name\"),\n",
    "                     F.col(\"ingredients\"),\n",
    "                     F.col(\"url\"),\n",
    "                     F.col(\"image\"),\n",
    "                     F.col(\"cookTime\"),\n",
    "                     F.col(\"recipeYield\"),\n",
    "                     F.col(\"datePublished\"),\n",
    "                     F.col(\"prepTime\"),\n",
    "                     F.col(\"description\")) \\\n",
    "             .filter((df.ingredients.like('%beef%')) | (df.ingredients.like('%Beef%'))) \\\n",
    "             .withColumn(\"cookTime_in_minutes\", parse_iso8601_duration(F.col(\"cookTime\"))) \\\n",
    "             .withColumn(\"prepTime_in_minutes\", parse_iso8601_duration(F.col(\"prepTime\")))\n",
    "\n",
    "def add_totals(df):\n",
    "    return df.withColumn(\"Total_Cooking_Time\", df.cookTime_in_minutes + df.prepTime_in_minutes)\n",
    "\n",
    "recipe_schema = StructType(fields = [StructField(\"name\", StringType(), True),\n",
    "                                     StructField(\"ingredients\", StringType(), True),\n",
    "                                     StructField(\"url\", StringType(), True),\n",
    "                                     StructField(\"image\", StringType(), True),\n",
    "                                     StructField(\"cookTime\", StringType(), True),\n",
    "                                     StructField(\"recipeYield\", StringType(), True),\n",
    "                                     StructField(\"datePublished\", DateType(), True),\n",
    "                                     StructField(\"prepTime\", StringType(), True),\n",
    "                                     StructField(\"description\", StringType(), True)])"
   ]
  },
  {
   "cell_type": "code",
   "execution_count": 21,
   "metadata": {},
   "outputs": [
    {
     "name": "stdout",
     "output_type": "stream",
     "text": [
      "+--------------------+--------------------+--------------------+--------------------+--------+-----------+-------------+--------+--------------------+-------------------+-------------------+------------------+----------+\n",
      "|                name|         ingredients|                 url|               image|cookTime|recipeYield|datePublished|prepTime|         description|cookTime_in_minutes|prepTime_in_minutes|Total_Cooking_Time|Difficulty|\n",
      "+--------------------+--------------------+--------------------+--------------------+--------+-----------+-------------+--------+--------------------+-------------------+-------------------+------------------+----------+\n",
      "|French Onion Soup...|2 Tablespoons But...|http://thepioneer...|http://static.the...|   PT30M|          8|   2010-11-23|   PT20M|Important note: t...|                 30|                 20|                50|    Medium|\n",
      "|          Baked Ziti|2 Tablespoons Oli...|http://thepioneer...|http://static.the...|   PT45M|         12|   2012-11-26|   PT15M|Before I begin wi...|                 45|                 15|                60|    Medium|\n",
      "|   Sunday Night Stew| STEW\\n3 Tablespo...|http://thepioneer...|http://static.the...|    PT3H|          8|   2013-01-14|   PT15M|Yesterday was col...|                180|                 15|               195|      Hard|\n",
      "|Italian Meatball ...| Meatballs:\\n3/4 ...|http://thepioneer...|http://static.the...|   PT45M|          8|   2010-01-18|   PT30M|This is a hearty,...|                 45|                 30|                75|      Hard|\n",
      "| Drip Beef, Two Ways|1 whole Beef Chuc...|http://thepioneer...|http://static.the...|    PT6H|         10|   2010-02-03|    PT5M|Drip Beef. To me,...|                360|                  5|               365|      Hard|\n",
      "|Spaghetti &amp; M...| Meatballs:\\n3/4 ...|http://thepioneer...|http://static.the...|    PT1H|          8|   2010-02-15|   PT25M|I love---I mean l...|                 60|                 25|                85|      Hard|\n",
      "|    Passover Brisket|1 whole Beef Bris...|http://thepioneer...|http://static.the...|    PT7H|          8|   2010-03-30|   PT10M|Okay. I think we'...|                420|                 10|               430|      Hard|\n",
      "|         Sloppy Joes|2 Tablespoons But...|http://thepioneer...|http://static.the...|   PT20M|          8|   2010-04-12|   PT10M|I used to be terr...|                 20|                 10|                30|    Medium|\n",
      "|       Cowboy Nachos|2 cups Pioneer Wo...|http://thepioneer...|http://static.the...|    PT5M|          4|   2008-06-13|   PT15M|I love finding in...|                  5|                 15|                20|      Easy|\n",
      "|          Enchiladas| FOR THE SAUCE:\\n...|http://thepioneer...|http://static.the...|   PT20M|          6|   2008-09-15| PT1H30M|Okay, people. Let...|                 20|                 90|               110|      Hard|\n",
      "|         Steak Bites|1 pound Sirloin S...|http://thepioneer...|http://static.the...|   PT10M|          2|   2012-03-09|    PT5M|    Today I'll sh...|                 10|                  5|                15|      Easy|\n",
      "|  My Favorite Burger|2 pounds 80/20 Gr...|http://thepioneer...|http://static.the...|    PT6M|          4|   2009-01-25|   PT20M|I'm just going to...|                  6|                 20|                26|      Easy|\n",
      "|   French Onion Soup|1 stick Butter\\n4...|http://thepioneer...|http://static.the...|    PT2H|          6|   2009-02-12|   PT20M|    It may be sli...|                120|                 20|               140|      Hard|\n",
      "|Pasta alla Marlbo...|2 Tablespoons Oli...|http://thepioneer...|http://static.the...|    PT1H|          6|   2009-03-02|   PT10M|    Marlboro Man ...|                 60|                 10|                70|      Hard|\n",
      "|Ryan’s Bolognese ...|1/2 cup Olive Oil...|http://thepioneer...|http://static.the...|    PT2H|          8|   2009-05-20|   PT30M|    The thing abo...|                120|                 30|               150|      Hard|\n",
      "|Leftover Brisket ...| Beef Brisket Lef...|http://thepioneer...|http://static.the...|    PT5M|          6|   2008-01-15|   PT15M|    There are few...|                  5|                 15|                20|      Easy|\n",
      "|Cooking With Past...|4 cups Unprepared...|http://thepioneer...|http://static.the...|   PT35M|          8|   2008-08-14|   PT45M|Hello PW peeps. I...|                 35|                 45|                80|      Hard|\n",
      "|         Salad Tacos|16 whole Taco She...|http://thepioneer...|http://static.the...|   PT15M|          8|   2013-01-31|   PT10M|I made these taco...|                 15|                 10|                25|      Easy|\n",
      "|        Beef Fajitas|1 whole Beef Flan...|http://thepioneer...|http://static.the...|   PT15M|          8|   2013-03-04|    PT2H|When I get a hank...|                 15|                120|               135|      Hard|\n",
      "|The Best Lasagna....|1-1/2 pound Groun...|http://thepioneer...|http://static.the...|   PT30M|         12|   2007-06-01|   PT30M| I'm sure everyon...|                 30|                 30|                60|    Medium|\n",
      "+--------------------+--------------------+--------------------+--------------------+--------+-----------+-------------+--------+--------------------+-------------------+-------------------+------------------+----------+\n",
      "only showing top 20 rows\n",
      "\n",
      "None\n"
     ]
    }
   ],
   "source": [
    "sample_df = extract_and_transform_data('input_files/prod_data/recipes-000.json')\n",
    "totaled_df = add_totals(sample_df)\n",
    "adjusted_df = totaled_df.withColumn(\"Difficulty\", F.when(totaled_df.Total_Cooking_Time < 30, 'Easy')\n",
    "                                                   .when((totaled_df.Total_Cooking_Time > 30) & (totaled_df.Total_Cooking_Time < 60), 'Medium')\n",
    "                                                   .when(totaled_df.Total_Cooking_Time > 60, 'Hard'))\n",
    "\n",
    "totaled_df.createOrReplaceTempView('Table')\n",
    "sql_df = spark.sql(\"SELECT *, CASE WHEN Total_Cooking_Time < 30 THEN 'Easy' WHEN Total_Cooking_Time BETWEEN 30 AND 60 THEN 'Medium' WHEN Total_Cooking_Time > 60 THEN 'Hard' END AS Difficulty FROM Table\")\n",
    "print(sql_df.show())\n",
    "\n",
    "# adjusted_df.createOrReplaceTempView('Table2')\n",
    "# final_df = spark.sql(\"SELECT Difficulty, ROUND(AVG(Total_Cooking_Time),2) AS Average_Cooking_Time_Per_Difficulty FROM Table2 GROUP BY Difficulty\")\n",
    "# print(final_df.count())\n",
    "# final_df.show()\n",
    "\n"
   ]
  },
  {
   "cell_type": "code",
   "execution_count": 22,
   "metadata": {},
   "outputs": [
    {
     "name": "stdout",
     "output_type": "stream",
     "text": [
      "+--------------------+--------------------+--------------------+--------------------+--------+-----------+-------------+--------+--------------------+-------------------+-------------------+------------------+----------+\n",
      "|                name|         ingredients|                 url|               image|cookTime|recipeYield|datePublished|prepTime|         description|cookTime_in_minutes|prepTime_in_minutes|Total_Cooking_Time|Difficulty|\n",
      "+--------------------+--------------------+--------------------+--------------------+--------+-----------+-------------+--------+--------------------+-------------------+-------------------+------------------+----------+\n",
      "|French Onion Soup...|2 Tablespoons But...|http://thepioneer...|http://static.the...|   PT30M|          8|   2010-11-23|   PT20M|Important note: t...|                 30|                 20|                50|    Medium|\n",
      "|          Baked Ziti|2 Tablespoons Oli...|http://thepioneer...|http://static.the...|   PT45M|         12|   2012-11-26|   PT15M|Before I begin wi...|                 45|                 15|                60|      NULL|\n",
      "|   Sunday Night Stew| STEW\\n3 Tablespo...|http://thepioneer...|http://static.the...|    PT3H|          8|   2013-01-14|   PT15M|Yesterday was col...|                180|                 15|               195|      Hard|\n",
      "|Italian Meatball ...| Meatballs:\\n3/4 ...|http://thepioneer...|http://static.the...|   PT45M|          8|   2010-01-18|   PT30M|This is a hearty,...|                 45|                 30|                75|      Hard|\n",
      "| Drip Beef, Two Ways|1 whole Beef Chuc...|http://thepioneer...|http://static.the...|    PT6H|         10|   2010-02-03|    PT5M|Drip Beef. To me,...|                360|                  5|               365|      Hard|\n",
      "|Spaghetti &amp; M...| Meatballs:\\n3/4 ...|http://thepioneer...|http://static.the...|    PT1H|          8|   2010-02-15|   PT25M|I love---I mean l...|                 60|                 25|                85|      Hard|\n",
      "|    Passover Brisket|1 whole Beef Bris...|http://thepioneer...|http://static.the...|    PT7H|          8|   2010-03-30|   PT10M|Okay. I think we'...|                420|                 10|               430|      Hard|\n",
      "|         Sloppy Joes|2 Tablespoons But...|http://thepioneer...|http://static.the...|   PT20M|          8|   2010-04-12|   PT10M|I used to be terr...|                 20|                 10|                30|      NULL|\n",
      "|       Cowboy Nachos|2 cups Pioneer Wo...|http://thepioneer...|http://static.the...|    PT5M|          4|   2008-06-13|   PT15M|I love finding in...|                  5|                 15|                20|      Easy|\n",
      "|          Enchiladas| FOR THE SAUCE:\\n...|http://thepioneer...|http://static.the...|   PT20M|          6|   2008-09-15| PT1H30M|Okay, people. Let...|                 20|                 90|               110|      Hard|\n",
      "|         Steak Bites|1 pound Sirloin S...|http://thepioneer...|http://static.the...|   PT10M|          2|   2012-03-09|    PT5M|    Today I'll sh...|                 10|                  5|                15|      Easy|\n",
      "|  My Favorite Burger|2 pounds 80/20 Gr...|http://thepioneer...|http://static.the...|    PT6M|          4|   2009-01-25|   PT20M|I'm just going to...|                  6|                 20|                26|      Easy|\n",
      "|   French Onion Soup|1 stick Butter\\n4...|http://thepioneer...|http://static.the...|    PT2H|          6|   2009-02-12|   PT20M|    It may be sli...|                120|                 20|               140|      Hard|\n",
      "|Pasta alla Marlbo...|2 Tablespoons Oli...|http://thepioneer...|http://static.the...|    PT1H|          6|   2009-03-02|   PT10M|    Marlboro Man ...|                 60|                 10|                70|      Hard|\n",
      "|Ryan’s Bolognese ...|1/2 cup Olive Oil...|http://thepioneer...|http://static.the...|    PT2H|          8|   2009-05-20|   PT30M|    The thing abo...|                120|                 30|               150|      Hard|\n",
      "|Leftover Brisket ...| Beef Brisket Lef...|http://thepioneer...|http://static.the...|    PT5M|          6|   2008-01-15|   PT15M|    There are few...|                  5|                 15|                20|      Easy|\n",
      "|Cooking With Past...|4 cups Unprepared...|http://thepioneer...|http://static.the...|   PT35M|          8|   2008-08-14|   PT45M|Hello PW peeps. I...|                 35|                 45|                80|      Hard|\n",
      "|         Salad Tacos|16 whole Taco She...|http://thepioneer...|http://static.the...|   PT15M|          8|   2013-01-31|   PT10M|I made these taco...|                 15|                 10|                25|      Easy|\n",
      "|        Beef Fajitas|1 whole Beef Flan...|http://thepioneer...|http://static.the...|   PT15M|          8|   2013-03-04|    PT2H|When I get a hank...|                 15|                120|               135|      Hard|\n",
      "|The Best Lasagna....|1-1/2 pound Groun...|http://thepioneer...|http://static.the...|   PT30M|         12|   2007-06-01|   PT30M| I'm sure everyon...|                 30|                 30|                60|      NULL|\n",
      "+--------------------+--------------------+--------------------+--------------------+--------+-----------+-------------+--------+--------------------+-------------------+-------------------+------------------+----------+\n",
      "only showing top 20 rows\n",
      "\n",
      "None\n"
     ]
    }
   ],
   "source": [
    "print(adjusted_df.show())"
   ]
  },
  {
   "cell_type": "code",
   "execution_count": null,
   "metadata": {},
   "outputs": [],
   "source": []
  }
 ],
 "metadata": {
  "kernelspec": {
   "display_name": "vscode_pyspark",
   "language": "python",
   "name": "vscode_pyspark"
  },
  "language_info": {
   "codemirror_mode": {
    "name": "ipython",
    "version": 3
   },
   "file_extension": ".py",
   "mimetype": "text/x-python",
   "name": "python",
   "nbconvert_exporter": "python",
   "pygments_lexer": "ipython3",
   "version": "3.11.9"
  }
 },
 "nbformat": 4,
 "nbformat_minor": 2
}
